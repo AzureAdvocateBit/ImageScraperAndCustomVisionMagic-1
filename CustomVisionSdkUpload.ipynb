{
 "cells": [
  {
   "cell_type": "code",
   "execution_count": null,
   "metadata": {},
   "outputs": [],
   "source": [
    "#!pip install azure-cognitiveservices-vision-customvision\n",
    "from azure.cognitiveservices.vision.customvision.training import CustomVisionTrainingClient\n",
    "from azure.cognitiveservices.vision.customvision.training.models import ImageFileCreateEntry\n",
    "import numpy as np"
   ]
  },
  {
   "cell_type": "markdown",
   "metadata": {},
   "source": [
    "# Create Project"
   ]
  },
  {
   "cell_type": "code",
   "execution_count": null,
   "metadata": {},
   "outputs": [],
   "source": [
    "ENDPOINT = \"<endpoint>\"\n",
    "\n",
    "# Replace with a valid key\n",
    "training_key = \"<key>\"\n",
    "publish_iteration_name = \"classifyBirdModel\"\n",
    "\n",
    "trainer = CustomVisionTrainingClient(training_key, endpoint=ENDPOINT)\n",
    "\n",
    "# Create a new project\n",
    "print (\"Creating project...\")\n",
    "project = trainer.create_project(\"Bird Classification\")\n",
    "print(\"Project created!\")"
   ]
  },
  {
   "cell_type": "markdown",
   "metadata": {},
   "source": [
    "# Create Tag list from file names"
   ]
  },
  {
   "cell_type": "code",
   "execution_count": null,
   "metadata": {},
   "outputs": [],
   "source": [
    "#Create Tag List from folders in bird directory\n",
    "import os\n",
    "os.chdir('./bird_photos')\n",
    "tags = [name for name in os.listdir('.') if os.path.isdir(name)]\n",
    "print(tags)"
   ]
  },
  {
   "cell_type": "markdown",
   "metadata": {},
   "source": [
    "# Create tag in Azure"
   ]
  },
  {
   "cell_type": "code",
   "execution_count": null,
   "metadata": {},
   "outputs": [],
   "source": [
    "def createTag(tag):\n",
    "    result = trainer.create_tag(project.id, tag)\n",
    "    print(f'{tag} create with id: {result}')\n",
    "    return result.id\n"
   ]
  },
  {
   "cell_type": "markdown",
   "metadata": {},
   "source": [
    "# Create Image List to Upload"
   ]
  },
  {
   "cell_type": "code",
   "execution_count": null,
   "metadata": {},
   "outputs": [],
   "source": [
    "def createImageList(tag, tag_id):\n",
    "    #set directory to current tag\n",
    "    base_image_url = f\"./{tag}/\"\n",
    "    photo_name_list = os.listdir(base_image_url)\n",
    "    image_list = []\n",
    "    for file_name in photo_name_list:\n",
    "        with open(base_image_url+file_name, \"rb\") as image_contents:\n",
    "            image_list.append(ImageFileCreateEntry(name=base_image_url+file_name, contents=image_contents.read(), tag_ids=[tag_id]))\n",
    "    return image_list"
   ]
  },
  {
   "cell_type": "markdown",
   "metadata": {},
   "source": [
    "# Upload List method"
   ]
  },
  {
   "cell_type": "code",
   "execution_count": null,
   "metadata": {},
   "outputs": [],
   "source": [
    "def uploadImageList(image_list):  \n",
    "    upload_result = trainer.create_images_from_files(project.id, images=image_list)\n",
    "    if not upload_result.is_batch_successful:\n",
    "        print(\"Image batch upload failed.\")\n",
    "        for image in upload_result.images:\n",
    "            print(\"Image status: \", image.status)\n",
    "        exit(-1)"
   ]
  },
  {
   "cell_type": "markdown",
   "metadata": {},
   "source": [
    "# Loop thru tags and call each function |to upload"
   ]
  },
  {
   "cell_type": "code",
   "execution_count": null,
   "metadata": {},
   "outputs": [],
   "source": [
    "#get images names from directory\n",
    "for tag in tags:\n",
    "    tag_id = createTag(tag)\n",
    "    print(f\"tag creation done with tag id {tag_id}\")\n",
    "    image_list = createImageList(tag, tag_id)\n",
    "    print(\"image_list created with length \" + str(len(image_list)))\n",
    "    \n",
    "    #break list into lists of 25 and upload in batches\n",
    "    for i in range(0, len(image_list), 25):\n",
    "        batch = image_list[i:i + 25]\n",
    "        print(f'Upload started for batch {i} total items {len(batch)} for tag {tag}...')\n",
    "        uploadImageList(batch)\n",
    "        print(f\"Batch {i} Image upload completed. Total uploaded {len(batch)} for tag {tag}\")"
   ]
  },
  {
   "cell_type": "code",
   "execution_count": null,
   "metadata": {},
   "outputs": [],
   "source": []
  }
 ],
 "metadata": {
  "kernelspec": {
   "display_name": "Python 3",
   "language": "python",
   "name": "python3"
  },
  "language_info": {
   "codemirror_mode": {
    "name": "ipython",
    "version": 3
   },
   "file_extension": ".py",
   "mimetype": "text/x-python",
   "name": "python",
   "nbconvert_exporter": "python",
   "pygments_lexer": "ipython3",
   "version": "3.7.1"
  }
 },
 "nbformat": 4,
 "nbformat_minor": 2
}
