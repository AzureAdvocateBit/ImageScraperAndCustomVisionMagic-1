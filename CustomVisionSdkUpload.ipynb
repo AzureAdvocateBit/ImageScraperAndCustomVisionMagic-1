{
 "cells": [
  {
   "cell_type": "code",
   "execution_count": 1,
   "metadata": {},
   "outputs": [],
   "source": [
    "#!pip install azure-cognitiveservices-vision-customvision\n",
    "from azure.cognitiveservices.vision.customvision.training import CustomVisionTrainingClient\n",
    "from azure.cognitiveservices.vision.customvision.training.models import ImageFileCreateEntry\n",
    "import numpy as np"
   ]
  },
  {
   "cell_type": "markdown",
   "metadata": {},
   "source": [
    "# Create Project"
   ]
  },
  {
   "cell_type": "code",
   "execution_count": 2,
   "metadata": {},
   "outputs": [
    {
     "name": "stdout",
     "output_type": "stream",
     "text": [
      "Creating project...\n",
      "Project created!\n"
     ]
    }
   ],
   "source": [
    "\n",
    "\n",
    "ENDPOINT = \"<endpointhere>\"\n",
    "\n",
    "# Replace with a valid key\n",
    "training_key = \"<trainkeyhere>\"\n",
    "publish_iteration_name = \"classifyBirdModel\"\n",
    "\n",
    "trainer = CustomVisionTrainingClient(training_key, endpoint=ENDPOINT)\n",
    "\n",
    "# Create a new project\n",
    "print (\"Creating project...\")\n",
    "project = trainer.create_project(\"Bird Classification\")\n",
    "print(\"Project created!\")"
   ]
  },
  {
   "cell_type": "markdown",
   "metadata": {},
   "source": [
    "# Create Tag list from file names"
   ]
  },
  {
   "cell_type": "code",
   "execution_count": 3,
   "metadata": {},
   "outputs": [
    {
     "name": "stdout",
     "output_type": "stream",
     "text": [
      "['American Crow', 'American Goldfinch (Female)', 'American Goldfinch (Male)', 'American Robin (Adult)', 'American Robin (Juvenile)', 'Blue Jay', 'Common Grackle', 'House Sparrow (Female)', 'House Sparrow (Male)', 'House Wren', 'Mourning Dove', 'Northern Cardinal (Adult Male)', 'Northern Cardinal (Female)', 'Red-tailed Hawk (Dark morph)', 'Red-tailed Hawk (Light morph immature)', 'Tufted Titmouse']\n"
     ]
    }
   ],
   "source": [
    "#Create Tag List from folders in bird directory\n",
    "import os\n",
    "os.chdir('./bird_photos')\n",
    "tags = [name for name in os.listdir('.') if os.path.isdir(name)]\n",
    "print(tags)"
   ]
  },
  {
   "cell_type": "markdown",
   "metadata": {},
   "source": [
    "# Create tag in Azure"
   ]
  },
  {
   "cell_type": "code",
   "execution_count": 4,
   "metadata": {},
   "outputs": [],
   "source": [
    "def createTag(tag):\n",
    "    result = trainer.create_tag(project.id, tag)\n",
    "    print(f'{tag} create with id: {result}')\n",
    "    return result.id\n"
   ]
  },
  {
   "cell_type": "markdown",
   "metadata": {},
   "source": [
    "# Create Image List to Upload"
   ]
  },
  {
   "cell_type": "code",
   "execution_count": 10,
   "metadata": {},
   "outputs": [],
   "source": [
    "def createImageList(tag, tag_id):\n",
    "    #os.chdir('../')\n",
    "    #os.chdir('./bird_photos/') \n",
    "    #set directory to current tag\n",
    "    base_image_url = f\"./{tag}/\"\n",
    "    os.chdir(base_image_url) \n",
    "    photo_name_list = os.listdir()\n",
    "    \n",
    "    print(\"Adding images...\")\n",
    "\n",
    "    image_list = []\n",
    "\n",
    "    for file_name in photo_name_list:\n",
    "        with open(file_name, \"rb\") as image_contents:\n",
    "            image_list.append(ImageFileCreateEntry(name=file_name, contents=image_contents.read(), tag_ids=[tag_id]))\n",
    "    return image_list"
   ]
  },
  {
   "cell_type": "markdown",
   "metadata": {},
   "source": [
    "# Upload List method"
   ]
  },
  {
   "cell_type": "code",
   "execution_count": 6,
   "metadata": {},
   "outputs": [],
   "source": [
    "def uploadImageList(image_list):  \n",
    "    upload_result = trainer.create_images_from_files(project.id, images=image_list)\n",
    "    if not upload_result.is_batch_successful:\n",
    "        print(\"Image batch upload failed.\")\n",
    "        for image in upload_result.images:\n",
    "            print(\"Image status: \", image.status)\n",
    "        exit(-1)"
   ]
  },
  {
   "cell_type": "markdown",
   "metadata": {},
   "source": [
    "# Loop thru tags and call each method to upload"
   ]
  },
  {
   "cell_type": "code",
   "execution_count": 11,
   "metadata": {},
   "outputs": [
    {
     "ename": "CustomVisionErrorException",
     "evalue": "Name not unique: American Crow, Project: 20e5bd7c-9677-4ae3-b8e2-4177a7f2ca72",
     "output_type": "error",
     "traceback": [
      "\u001b[1;31m---------------------------------------------------------------------------\u001b[0m",
      "\u001b[1;31mCustomVisionErrorException\u001b[0m                Traceback (most recent call last)",
      "\u001b[1;32m<ipython-input-11-102b10ca784d>\u001b[0m in \u001b[0;36m<module>\u001b[1;34m\u001b[0m\n\u001b[0;32m      1\u001b[0m \u001b[1;31m#get images names from directory\u001b[0m\u001b[1;33m\u001b[0m\u001b[1;33m\u001b[0m\u001b[1;33m\u001b[0m\u001b[0m\n\u001b[0;32m      2\u001b[0m \u001b[1;32mfor\u001b[0m \u001b[0mtag\u001b[0m \u001b[1;32min\u001b[0m \u001b[0mtags\u001b[0m\u001b[1;33m:\u001b[0m\u001b[1;33m\u001b[0m\u001b[1;33m\u001b[0m\u001b[0m\n\u001b[1;32m----> 3\u001b[1;33m     \u001b[0mtag_id\u001b[0m \u001b[1;33m=\u001b[0m \u001b[0mcreateTag\u001b[0m\u001b[1;33m(\u001b[0m\u001b[0mtag\u001b[0m\u001b[1;33m)\u001b[0m\u001b[1;33m\u001b[0m\u001b[1;33m\u001b[0m\u001b[0m\n\u001b[0m\u001b[0;32m      4\u001b[0m     \u001b[0mprint\u001b[0m\u001b[1;33m(\u001b[0m\u001b[1;34mf\"tag creation done with tag id {tag_id}\"\u001b[0m\u001b[1;33m)\u001b[0m\u001b[1;33m\u001b[0m\u001b[1;33m\u001b[0m\u001b[0m\n\u001b[0;32m      5\u001b[0m     \u001b[0mimage_list\u001b[0m \u001b[1;33m=\u001b[0m \u001b[0mcreateImageList\u001b[0m\u001b[1;33m(\u001b[0m\u001b[0mtag\u001b[0m\u001b[1;33m,\u001b[0m \u001b[0mtag_id\u001b[0m\u001b[1;33m)\u001b[0m\u001b[1;33m\u001b[0m\u001b[1;33m\u001b[0m\u001b[0m\n",
      "\u001b[1;32m<ipython-input-4-72caf64ba992>\u001b[0m in \u001b[0;36mcreateTag\u001b[1;34m(tag)\u001b[0m\n\u001b[0;32m      1\u001b[0m \u001b[1;32mdef\u001b[0m \u001b[0mcreateTag\u001b[0m\u001b[1;33m(\u001b[0m\u001b[0mtag\u001b[0m\u001b[1;33m)\u001b[0m\u001b[1;33m:\u001b[0m\u001b[1;33m\u001b[0m\u001b[1;33m\u001b[0m\u001b[0m\n\u001b[1;32m----> 2\u001b[1;33m     \u001b[0mresult\u001b[0m \u001b[1;33m=\u001b[0m \u001b[0mtrainer\u001b[0m\u001b[1;33m.\u001b[0m\u001b[0mcreate_tag\u001b[0m\u001b[1;33m(\u001b[0m\u001b[0mproject\u001b[0m\u001b[1;33m.\u001b[0m\u001b[0mid\u001b[0m\u001b[1;33m,\u001b[0m \u001b[0mtag\u001b[0m\u001b[1;33m)\u001b[0m\u001b[1;33m\u001b[0m\u001b[1;33m\u001b[0m\u001b[0m\n\u001b[0m\u001b[0;32m      3\u001b[0m     \u001b[0mprint\u001b[0m\u001b[1;33m(\u001b[0m\u001b[1;34mf'{tag} create with id: {result}'\u001b[0m\u001b[1;33m)\u001b[0m\u001b[1;33m\u001b[0m\u001b[1;33m\u001b[0m\u001b[0m\n\u001b[0;32m      4\u001b[0m     \u001b[1;32mreturn\u001b[0m \u001b[0mresult\u001b[0m\u001b[1;33m.\u001b[0m\u001b[0mid\u001b[0m\u001b[1;33m\u001b[0m\u001b[1;33m\u001b[0m\u001b[0m\n",
      "\u001b[1;32m~\\AppData\\Local\\Continuum\\anaconda3\\lib\\site-packages\\azure\\cognitiveservices\\vision\\customvision\\training\\custom_vision_training_client.py\u001b[0m in \u001b[0;36mcreate_tag\u001b[1;34m(self, project_id, name, description, type, custom_headers, raw, **operation_config)\u001b[0m\n\u001b[0;32m   2747\u001b[0m \u001b[1;33m\u001b[0m\u001b[0m\n\u001b[0;32m   2748\u001b[0m         \u001b[1;32mif\u001b[0m \u001b[0mresponse\u001b[0m\u001b[1;33m.\u001b[0m\u001b[0mstatus_code\u001b[0m \u001b[1;32mnot\u001b[0m \u001b[1;32min\u001b[0m \u001b[1;33m[\u001b[0m\u001b[1;36m200\u001b[0m\u001b[1;33m]\u001b[0m\u001b[1;33m:\u001b[0m\u001b[1;33m\u001b[0m\u001b[1;33m\u001b[0m\u001b[0m\n\u001b[1;32m-> 2749\u001b[1;33m             \u001b[1;32mraise\u001b[0m \u001b[0mmodels\u001b[0m\u001b[1;33m.\u001b[0m\u001b[0mCustomVisionErrorException\u001b[0m\u001b[1;33m(\u001b[0m\u001b[0mself\u001b[0m\u001b[1;33m.\u001b[0m\u001b[0m_deserialize\u001b[0m\u001b[1;33m,\u001b[0m \u001b[0mresponse\u001b[0m\u001b[1;33m)\u001b[0m\u001b[1;33m\u001b[0m\u001b[1;33m\u001b[0m\u001b[0m\n\u001b[0m\u001b[0;32m   2750\u001b[0m \u001b[1;33m\u001b[0m\u001b[0m\n\u001b[0;32m   2751\u001b[0m         \u001b[0mdeserialized\u001b[0m \u001b[1;33m=\u001b[0m \u001b[1;32mNone\u001b[0m\u001b[1;33m\u001b[0m\u001b[1;33m\u001b[0m\u001b[0m\n",
      "\u001b[1;31mCustomVisionErrorException\u001b[0m: Name not unique: American Crow, Project: 20e5bd7c-9677-4ae3-b8e2-4177a7f2ca72"
     ]
    }
   ],
   "source": [
    "#get images names from directory\n",
    "for tag in tags:\n",
    "    tag_id = createTag(tag)\n",
    "    print(f\"tag creation done with tag id {tag_id}\")\n",
    "    image_list = createImageList(tag, tag_id)\n",
    "    print(\"image_list created with length \" + str(len(image_list)))\n",
    "    \n",
    "    #break list into lists of 25 and upload in batches\n",
    "    for i in range(0, len(image_list), 25):\n",
    "        broken = image_list[i:i + 25]\n",
    "        print(f'Upload started for batch {i} total items {len(broken)} for tag {tag.name}...')\n",
    "        uploadImageList(broken)\n",
    "        print(f\"Batch {i%25} Image upload completed. Total uploaded {len(broken)} for tag {tag}\")"
   ]
  },
  {
   "cell_type": "code",
   "execution_count": null,
   "metadata": {},
   "outputs": [],
   "source": []
  },
  {
   "cell_type": "code",
   "execution_count": 14,
   "metadata": {},
   "outputs": [],
   "source": [
    "#os.getcwd()"
   ]
  },
  {
   "cell_type": "code",
   "execution_count": 13,
   "metadata": {},
   "outputs": [],
   "source": [
    "os.chdir('./bird_photos/') "
   ]
  },
  {
   "cell_type": "code",
   "execution_count": null,
   "metadata": {},
   "outputs": [],
   "source": [
    "os.chdir('../') "
   ]
  },
  {
   "cell_type": "code",
   "execution_count": null,
   "metadata": {},
   "outputs": [],
   "source": []
  }
 ],
 "metadata": {
  "kernelspec": {
   "display_name": "Python 3",
   "language": "python",
   "name": "python3"
  },
  "language_info": {
   "codemirror_mode": {
    "name": "ipython",
    "version": 3
   },
   "file_extension": ".py",
   "mimetype": "text/x-python",
   "name": "python",
   "nbconvert_exporter": "python",
   "pygments_lexer": "ipython3",
   "version": "3.7.1"
  }
 },
 "nbformat": 4,
 "nbformat_minor": 2
}
