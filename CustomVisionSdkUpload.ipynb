{
 "cells": [
  {
   "cell_type": "code",
   "execution_count": 1,
   "metadata": {},
   "outputs": [],
   "source": [
    "#!pip install azure-cognitiveservices-vision-customvision\n",
    "from azure.cognitiveservices.vision.customvision.training import CustomVisionTrainingClient\n",
    "from azure.cognitiveservices.vision.customvision.training.models import ImageFileCreateEntry\n",
    "import numpy as np"
   ]
  },
  {
   "cell_type": "markdown",
   "metadata": {},
   "source": [
    "# Create Project"
   ]
  },
  {
   "cell_type": "code",
   "execution_count": 2,
   "metadata": {},
   "outputs": [
    {
     "name": "stdout",
     "output_type": "stream",
     "text": [
      "Creating project...\n",
      "Project created!\n"
     ]
    }
   ],
   "source": [
    "ENDPOINT = \"https://<resource-name>.cognitiveservices.azure.com/\"\n",
    "\n",
    "# Replace with a valid key\n",
    "training_key = \"<training-key>\"\n",
    "publish_iteration_name = \"classifyBirdModel\"\n",
    "prediction_resource_id =\"/subscriptions/<sub-id>/resourceGroups/<resource-group-name>/providers/Microsoft.CognitiveServices/accounts/<resource-name-Prediction>\"\n",
    "trainer = CustomVisionTrainingClient(training_key, endpoint=ENDPOINT)\n",
    "\n",
    "# Create a new project\n",
    "print (\"Creating project...\")\n",
    "\n",
    "# Create the project based on if you need a default or compact model. Only the compact models can be exported, default is deployed with custom vision only.\n",
    "#project = trainer.create_project(\"Bird Classification\")\n",
    "project = trainer.create_project(name=\"Bird Classification Compact\", domain_id=\"General (compact)\", classification_type=\"Multiclass\", target_export_platforms=\"Basic platforms\")\n",
    "print(\"Project created!\")"
   ]
  },
  {
   "cell_type": "markdown",
   "metadata": {},
   "source": [
    "# Create Tag list from file names"
   ]
  },
  {
   "cell_type": "code",
   "execution_count": 3,
   "metadata": {},
   "outputs": [
    {
     "name": "stdout",
     "output_type": "stream",
     "text": [
      "['American Crow', 'American Goldfinch (Female)', 'American Goldfinch (Male)', 'American Robin (Adult)', 'American Robin (Juvenile)', 'Blue Jay', 'Common Grackle', 'House Sparrow (Female)', 'House Sparrow (Male)', 'House Wren', 'Mourning Dove', 'Northern Cardinal (Adult Male)', 'Northern Cardinal (Female)', 'Red-tailed Hawk (Dark morph)', 'Red-tailed Hawk (Light morph immature)', 'Tufted Titmouse']\n"
     ]
    }
   ],
   "source": [
    "#Create Tag List from folders in bird directory\n",
    "import os\n",
    "os.chdir('./bird_photos/train')\n",
    "tags = [name for name in os.listdir('.') if os.path.isdir(name)]\n",
    "print(tags)"
   ]
  },
  {
   "cell_type": "markdown",
   "metadata": {},
   "source": [
    "# Create tag in Azure"
   ]
  },
  {
   "cell_type": "code",
   "execution_count": 4,
   "metadata": {},
   "outputs": [],
   "source": [
    "def createTag(tag):\n",
    "    result = trainer.create_tag(project.id, tag)\n",
    "    print(f'{tag} create with id: {result}')\n",
    "    return result.id\n"
   ]
  },
  {
   "cell_type": "markdown",
   "metadata": {},
   "source": [
    "# Create Image List to Upload"
   ]
  },
  {
   "cell_type": "code",
   "execution_count": 5,
   "metadata": {},
   "outputs": [],
   "source": [
    "def createImageList(tag, tag_id):\n",
    "    #set directory to current tag\n",
    "    base_image_url = f\"./{tag}/\"\n",
    "    photo_name_list = os.listdir(base_image_url)\n",
    "    image_list = []\n",
    "    for file_name in photo_name_list:\n",
    "        with open(base_image_url+file_name, \"rb\") as image_contents:\n",
    "            image_list.append(ImageFileCreateEntry(name=base_image_url+file_name, contents=image_contents.read(), tag_ids=[tag_id]))\n",
    "    return image_list"
   ]
  },
  {
   "cell_type": "markdown",
   "metadata": {},
   "source": [
    "# Upload List method"
   ]
  },
  {
   "cell_type": "code",
   "execution_count": 6,
   "metadata": {},
   "outputs": [],
   "source": [
    "def uploadImageList(image_list):  \n",
    "    upload_result = trainer.create_images_from_files(project.id, images=image_list)\n",
    "    if not upload_result.is_batch_successful:\n",
    "        print(\"Image batch upload failed.\")\n",
    "        for image in upload_result.images:\n",
    "            print(\"Image status: \", image.status)\n",
    "        exit(-1)"
   ]
  },
  {
   "cell_type": "markdown",
   "metadata": {},
   "source": [
    "# Loop thru tags and call each function |to upload"
   ]
  },
  {
   "cell_type": "code",
   "execution_count": 7,
   "metadata": {},
   "outputs": [
    {
     "name": "stdout",
     "output_type": "stream",
     "text": [
      "American Crow create with id: {'additional_properties': {}, 'id': '5b72852d-cb9b-4bcf-8e0d-0df8d721a95d', 'name': 'American Crow', 'description': None, 'type': 'Regular', 'image_count': 0}\n",
      "tag creation done with tag id 5b72852d-cb9b-4bcf-8e0d-0df8d721a95d\n",
      "image_list created with length 84\n",
      "Upload started for batch 0 total items 25 for tag American Crow...\n",
      "Batch 0 Image upload completed. Total uploaded 25 for tag American Crow\n",
      "Upload started for batch 25 total items 25 for tag American Crow...\n",
      "Batch 25 Image upload completed. Total uploaded 25 for tag American Crow\n",
      "Upload started for batch 50 total items 25 for tag American Crow...\n",
      "Batch 50 Image upload completed. Total uploaded 25 for tag American Crow\n",
      "Upload started for batch 75 total items 9 for tag American Crow...\n",
      "Batch 75 Image upload completed. Total uploaded 9 for tag American Crow\n",
      "American Goldfinch (Female) create with id: {'additional_properties': {}, 'id': '35faee15-b212-4f85-a5cc-90b68b0a9231', 'name': 'American Goldfinch (Female)', 'description': None, 'type': 'Regular', 'image_count': 0}\n",
      "tag creation done with tag id 35faee15-b212-4f85-a5cc-90b68b0a9231\n",
      "image_list created with length 84\n",
      "Upload started for batch 0 total items 25 for tag American Goldfinch (Female)...\n",
      "Batch 0 Image upload completed. Total uploaded 25 for tag American Goldfinch (Female)\n",
      "Upload started for batch 25 total items 25 for tag American Goldfinch (Female)...\n",
      "Batch 25 Image upload completed. Total uploaded 25 for tag American Goldfinch (Female)\n",
      "Upload started for batch 50 total items 25 for tag American Goldfinch (Female)...\n",
      "Batch 50 Image upload completed. Total uploaded 25 for tag American Goldfinch (Female)\n",
      "Upload started for batch 75 total items 9 for tag American Goldfinch (Female)...\n",
      "Batch 75 Image upload completed. Total uploaded 9 for tag American Goldfinch (Female)\n",
      "American Goldfinch (Male) create with id: {'additional_properties': {}, 'id': '28934179-6b95-4b0a-9b50-a3316e6499ae', 'name': 'American Goldfinch (Male)', 'description': None, 'type': 'Regular', 'image_count': 0}\n",
      "tag creation done with tag id 28934179-6b95-4b0a-9b50-a3316e6499ae\n",
      "image_list created with length 84\n",
      "Upload started for batch 0 total items 25 for tag American Goldfinch (Male)...\n",
      "Batch 0 Image upload completed. Total uploaded 25 for tag American Goldfinch (Male)\n",
      "Upload started for batch 25 total items 25 for tag American Goldfinch (Male)...\n",
      "Batch 25 Image upload completed. Total uploaded 25 for tag American Goldfinch (Male)\n",
      "Upload started for batch 50 total items 25 for tag American Goldfinch (Male)...\n",
      "Batch 50 Image upload completed. Total uploaded 25 for tag American Goldfinch (Male)\n",
      "Upload started for batch 75 total items 9 for tag American Goldfinch (Male)...\n",
      "Batch 75 Image upload completed. Total uploaded 9 for tag American Goldfinch (Male)\n",
      "American Robin (Adult) create with id: {'additional_properties': {}, 'id': 'a7781725-8ec4-4207-84ac-bb2a1d412c10', 'name': 'American Robin (Adult)', 'description': None, 'type': 'Regular', 'image_count': 0}\n",
      "tag creation done with tag id a7781725-8ec4-4207-84ac-bb2a1d412c10\n",
      "image_list created with length 84\n",
      "Upload started for batch 0 total items 25 for tag American Robin (Adult)...\n",
      "Batch 0 Image upload completed. Total uploaded 25 for tag American Robin (Adult)\n",
      "Upload started for batch 25 total items 25 for tag American Robin (Adult)...\n",
      "Batch 25 Image upload completed. Total uploaded 25 for tag American Robin (Adult)\n",
      "Upload started for batch 50 total items 25 for tag American Robin (Adult)...\n",
      "Batch 50 Image upload completed. Total uploaded 25 for tag American Robin (Adult)\n",
      "Upload started for batch 75 total items 9 for tag American Robin (Adult)...\n",
      "Batch 75 Image upload completed. Total uploaded 9 for tag American Robin (Adult)\n",
      "American Robin (Juvenile) create with id: {'additional_properties': {}, 'id': '99cb1fa1-72d6-44ce-b7dc-be493a31fd29', 'name': 'American Robin (Juvenile)', 'description': None, 'type': 'Regular', 'image_count': 0}\n",
      "tag creation done with tag id 99cb1fa1-72d6-44ce-b7dc-be493a31fd29\n",
      "image_list created with length 84\n",
      "Upload started for batch 0 total items 25 for tag American Robin (Juvenile)...\n",
      "Batch 0 Image upload completed. Total uploaded 25 for tag American Robin (Juvenile)\n",
      "Upload started for batch 25 total items 25 for tag American Robin (Juvenile)...\n",
      "Batch 25 Image upload completed. Total uploaded 25 for tag American Robin (Juvenile)\n",
      "Upload started for batch 50 total items 25 for tag American Robin (Juvenile)...\n",
      "Batch 50 Image upload completed. Total uploaded 25 for tag American Robin (Juvenile)\n",
      "Upload started for batch 75 total items 9 for tag American Robin (Juvenile)...\n",
      "Batch 75 Image upload completed. Total uploaded 9 for tag American Robin (Juvenile)\n",
      "Blue Jay create with id: {'additional_properties': {}, 'id': '7d9f39de-97ef-4de2-a5f8-121da54051ce', 'name': 'Blue Jay', 'description': None, 'type': 'Regular', 'image_count': 0}\n",
      "tag creation done with tag id 7d9f39de-97ef-4de2-a5f8-121da54051ce\n",
      "image_list created with length 84\n",
      "Upload started for batch 0 total items 25 for tag Blue Jay...\n",
      "Batch 0 Image upload completed. Total uploaded 25 for tag Blue Jay\n",
      "Upload started for batch 25 total items 25 for tag Blue Jay...\n",
      "Batch 25 Image upload completed. Total uploaded 25 for tag Blue Jay\n",
      "Upload started for batch 50 total items 25 for tag Blue Jay...\n",
      "Batch 50 Image upload completed. Total uploaded 25 for tag Blue Jay\n",
      "Upload started for batch 75 total items 9 for tag Blue Jay...\n",
      "Batch 75 Image upload completed. Total uploaded 9 for tag Blue Jay\n",
      "Common Grackle create with id: {'additional_properties': {}, 'id': 'e731dc74-d98a-416b-acfc-c2ad35569e49', 'name': 'Common Grackle', 'description': None, 'type': 'Regular', 'image_count': 0}\n",
      "tag creation done with tag id e731dc74-d98a-416b-acfc-c2ad35569e49\n",
      "image_list created with length 84\n",
      "Upload started for batch 0 total items 25 for tag Common Grackle...\n",
      "Batch 0 Image upload completed. Total uploaded 25 for tag Common Grackle\n",
      "Upload started for batch 25 total items 25 for tag Common Grackle...\n",
      "Batch 25 Image upload completed. Total uploaded 25 for tag Common Grackle\n",
      "Upload started for batch 50 total items 25 for tag Common Grackle...\n",
      "Batch 50 Image upload completed. Total uploaded 25 for tag Common Grackle\n",
      "Upload started for batch 75 total items 9 for tag Common Grackle...\n",
      "Batch 75 Image upload completed. Total uploaded 9 for tag Common Grackle\n",
      "House Sparrow (Female) create with id: {'additional_properties': {}, 'id': 'd36ebf92-788a-45a8-aed9-c68f25d9c935', 'name': 'House Sparrow (Female)', 'description': None, 'type': 'Regular', 'image_count': 0}\n",
      "tag creation done with tag id d36ebf92-788a-45a8-aed9-c68f25d9c935\n",
      "image_list created with length 84\n",
      "Upload started for batch 0 total items 25 for tag House Sparrow (Female)...\n",
      "Batch 0 Image upload completed. Total uploaded 25 for tag House Sparrow (Female)\n",
      "Upload started for batch 25 total items 25 for tag House Sparrow (Female)...\n",
      "Batch 25 Image upload completed. Total uploaded 25 for tag House Sparrow (Female)\n",
      "Upload started for batch 50 total items 25 for tag House Sparrow (Female)...\n",
      "Batch 50 Image upload completed. Total uploaded 25 for tag House Sparrow (Female)\n",
      "Upload started for batch 75 total items 9 for tag House Sparrow (Female)...\n",
      "Batch 75 Image upload completed. Total uploaded 9 for tag House Sparrow (Female)\n",
      "House Sparrow (Male) create with id: {'additional_properties': {}, 'id': '64f35a62-2afa-4ae7-8300-33fc9bc26918', 'name': 'House Sparrow (Male)', 'description': None, 'type': 'Regular', 'image_count': 0}\n",
      "tag creation done with tag id 64f35a62-2afa-4ae7-8300-33fc9bc26918\n",
      "image_list created with length 84\n",
      "Upload started for batch 0 total items 25 for tag House Sparrow (Male)...\n",
      "Batch 0 Image upload completed. Total uploaded 25 for tag House Sparrow (Male)\n",
      "Upload started for batch 25 total items 25 for tag House Sparrow (Male)...\n",
      "Batch 25 Image upload completed. Total uploaded 25 for tag House Sparrow (Male)\n",
      "Upload started for batch 50 total items 25 for tag House Sparrow (Male)...\n",
      "Batch 50 Image upload completed. Total uploaded 25 for tag House Sparrow (Male)\n",
      "Upload started for batch 75 total items 9 for tag House Sparrow (Male)...\n",
      "Batch 75 Image upload completed. Total uploaded 9 for tag House Sparrow (Male)\n"
     ]
    },
    {
     "name": "stdout",
     "output_type": "stream",
     "text": [
      "House Wren create with id: {'additional_properties': {}, 'id': '2d4e7965-fb0d-40c1-9d80-624239ee7363', 'name': 'House Wren', 'description': None, 'type': 'Regular', 'image_count': 0}\n",
      "tag creation done with tag id 2d4e7965-fb0d-40c1-9d80-624239ee7363\n",
      "image_list created with length 84\n",
      "Upload started for batch 0 total items 25 for tag House Wren...\n",
      "Batch 0 Image upload completed. Total uploaded 25 for tag House Wren\n",
      "Upload started for batch 25 total items 25 for tag House Wren...\n",
      "Batch 25 Image upload completed. Total uploaded 25 for tag House Wren\n",
      "Upload started for batch 50 total items 25 for tag House Wren...\n",
      "Batch 50 Image upload completed. Total uploaded 25 for tag House Wren\n",
      "Upload started for batch 75 total items 9 for tag House Wren...\n",
      "Batch 75 Image upload completed. Total uploaded 9 for tag House Wren\n",
      "Mourning Dove create with id: {'additional_properties': {}, 'id': 'baf922d8-15d6-4a68-aa74-d37b9e480a9d', 'name': 'Mourning Dove', 'description': None, 'type': 'Regular', 'image_count': 0}\n",
      "tag creation done with tag id baf922d8-15d6-4a68-aa74-d37b9e480a9d\n",
      "image_list created with length 84\n",
      "Upload started for batch 0 total items 25 for tag Mourning Dove...\n",
      "Batch 0 Image upload completed. Total uploaded 25 for tag Mourning Dove\n",
      "Upload started for batch 25 total items 25 for tag Mourning Dove...\n",
      "Batch 25 Image upload completed. Total uploaded 25 for tag Mourning Dove\n",
      "Upload started for batch 50 total items 25 for tag Mourning Dove...\n",
      "Batch 50 Image upload completed. Total uploaded 25 for tag Mourning Dove\n",
      "Upload started for batch 75 total items 9 for tag Mourning Dove...\n",
      "Batch 75 Image upload completed. Total uploaded 9 for tag Mourning Dove\n",
      "Northern Cardinal (Adult Male) create with id: {'additional_properties': {}, 'id': 'fc78c4c9-f10c-445c-b1bb-1b0b0a2f26a3', 'name': 'Northern Cardinal (Adult Male)', 'description': None, 'type': 'Regular', 'image_count': 0}\n",
      "tag creation done with tag id fc78c4c9-f10c-445c-b1bb-1b0b0a2f26a3\n",
      "image_list created with length 84\n",
      "Upload started for batch 0 total items 25 for tag Northern Cardinal (Adult Male)...\n",
      "Batch 0 Image upload completed. Total uploaded 25 for tag Northern Cardinal (Adult Male)\n",
      "Upload started for batch 25 total items 25 for tag Northern Cardinal (Adult Male)...\n",
      "Batch 25 Image upload completed. Total uploaded 25 for tag Northern Cardinal (Adult Male)\n",
      "Upload started for batch 50 total items 25 for tag Northern Cardinal (Adult Male)...\n",
      "Batch 50 Image upload completed. Total uploaded 25 for tag Northern Cardinal (Adult Male)\n",
      "Upload started for batch 75 total items 9 for tag Northern Cardinal (Adult Male)...\n",
      "Batch 75 Image upload completed. Total uploaded 9 for tag Northern Cardinal (Adult Male)\n",
      "Northern Cardinal (Female) create with id: {'additional_properties': {}, 'id': '2082520d-ee07-42f8-a917-f48f948da059', 'name': 'Northern Cardinal (Female)', 'description': None, 'type': 'Regular', 'image_count': 0}\n",
      "tag creation done with tag id 2082520d-ee07-42f8-a917-f48f948da059\n",
      "image_list created with length 84\n",
      "Upload started for batch 0 total items 25 for tag Northern Cardinal (Female)...\n",
      "Batch 0 Image upload completed. Total uploaded 25 for tag Northern Cardinal (Female)\n",
      "Upload started for batch 25 total items 25 for tag Northern Cardinal (Female)...\n",
      "Batch 25 Image upload completed. Total uploaded 25 for tag Northern Cardinal (Female)\n",
      "Upload started for batch 50 total items 25 for tag Northern Cardinal (Female)...\n",
      "Batch 50 Image upload completed. Total uploaded 25 for tag Northern Cardinal (Female)\n",
      "Upload started for batch 75 total items 9 for tag Northern Cardinal (Female)...\n",
      "Batch 75 Image upload completed. Total uploaded 9 for tag Northern Cardinal (Female)\n",
      "Red-tailed Hawk (Dark morph) create with id: {'additional_properties': {}, 'id': 'f3bfe953-046b-4978-a0a0-388db9e467da', 'name': 'Red-tailed Hawk (Dark morph)', 'description': None, 'type': 'Regular', 'image_count': 0}\n",
      "tag creation done with tag id f3bfe953-046b-4978-a0a0-388db9e467da\n",
      "image_list created with length 24\n",
      "Upload started for batch 0 total items 24 for tag Red-tailed Hawk (Dark morph)...\n",
      "Batch 0 Image upload completed. Total uploaded 24 for tag Red-tailed Hawk (Dark morph)\n",
      "Red-tailed Hawk (Light morph immature) create with id: {'additional_properties': {}, 'id': '336a66aa-3e1b-48b9-a287-cd387bf50b93', 'name': 'Red-tailed Hawk (Light morph immature)', 'description': None, 'type': 'Regular', 'image_count': 0}\n",
      "tag creation done with tag id 336a66aa-3e1b-48b9-a287-cd387bf50b93\n",
      "image_list created with length 84\n",
      "Upload started for batch 0 total items 25 for tag Red-tailed Hawk (Light morph immature)...\n",
      "Batch 0 Image upload completed. Total uploaded 25 for tag Red-tailed Hawk (Light morph immature)\n",
      "Upload started for batch 25 total items 25 for tag Red-tailed Hawk (Light morph immature)...\n",
      "Batch 25 Image upload completed. Total uploaded 25 for tag Red-tailed Hawk (Light morph immature)\n",
      "Upload started for batch 50 total items 25 for tag Red-tailed Hawk (Light morph immature)...\n",
      "Batch 50 Image upload completed. Total uploaded 25 for tag Red-tailed Hawk (Light morph immature)\n",
      "Upload started for batch 75 total items 9 for tag Red-tailed Hawk (Light morph immature)...\n",
      "Batch 75 Image upload completed. Total uploaded 9 for tag Red-tailed Hawk (Light morph immature)\n",
      "Tufted Titmouse create with id: {'additional_properties': {}, 'id': '5cf274fd-1f63-47a6-9a79-b8432eca1932', 'name': 'Tufted Titmouse', 'description': None, 'type': 'Regular', 'image_count': 0}\n",
      "tag creation done with tag id 5cf274fd-1f63-47a6-9a79-b8432eca1932\n",
      "image_list created with length 84\n",
      "Upload started for batch 0 total items 25 for tag Tufted Titmouse...\n",
      "Batch 0 Image upload completed. Total uploaded 25 for tag Tufted Titmouse\n",
      "Upload started for batch 25 total items 25 for tag Tufted Titmouse...\n",
      "Batch 25 Image upload completed. Total uploaded 25 for tag Tufted Titmouse\n",
      "Upload started for batch 50 total items 25 for tag Tufted Titmouse...\n",
      "Batch 50 Image upload completed. Total uploaded 25 for tag Tufted Titmouse\n",
      "Upload started for batch 75 total items 9 for tag Tufted Titmouse...\n",
      "Batch 75 Image upload completed. Total uploaded 9 for tag Tufted Titmouse\n"
     ]
    }
   ],
   "source": [
    "#get images names from directory\n",
    "for tag in tags:\n",
    "    tag_id = createTag(tag)\n",
    "    print(f\"tag creation done with tag id {tag_id}\")\n",
    "    image_list = createImageList(tag, tag_id)\n",
    "    print(\"image_list created with length \" + str(len(image_list)))\n",
    "    \n",
    "    #break list into lists of 25 and upload in batches\n",
    "    for i in range(0, len(image_list), 25):\n",
    "        batch = image_list[i:i + 25]\n",
    "        print(f'Upload started for batch {i} total items {len(batch)} for tag {tag}...')\n",
    "        uploadImageList(batch)\n",
    "        print(f\"Batch {i} Image upload completed. Total uploaded {len(batch)} for tag {tag}\")"
   ]
  },
  {
   "cell_type": "markdown",
   "metadata": {},
   "source": [
    "# Train Model"
   ]
  },
  {
   "cell_type": "code",
   "execution_count": 8,
   "metadata": {},
   "outputs": [
    {
     "name": "stdout",
     "output_type": "stream",
     "text": [
      "Training...\n",
      "Training status: Training\n",
      "Training status: Training\n",
      "Training status: Training\n",
      "Training status: Training\n",
      "Training status: Training\n",
      "Training status: Training\n",
      "Training status: Training\n",
      "Training status: Training\n",
      "Training status: Training\n",
      "Training status: Training\n",
      "Training status: Training\n",
      "Training status: Training\n",
      "Training status: Training\n",
      "Training status: Training\n",
      "Training status: Training\n",
      "Training status: Training\n",
      "Training status: Training\n",
      "Training status: Training\n",
      "Training status: Training\n",
      "Training status: Training\n",
      "Training status: Training\n",
      "Training status: Training\n",
      "Training status: Training\n",
      "Training status: Training\n",
      "Training status: Completed\n"
     ]
    }
   ],
   "source": [
    "import time\n",
    "\n",
    "print (\"Training...\")\n",
    "iteration = trainer.train_project(project.id)\n",
    "while (iteration.status != \"Completed\"):\n",
    "    iteration = trainer.get_iteration(project.id, iteration.id)\n",
    "    print (\"Training status: \" + iteration.status)\n",
    "    time.sleep(5)\n"
   ]
  },
  {
   "cell_type": "code",
   "execution_count": 9,
   "metadata": {},
   "outputs": [
    {
     "name": "stdout",
     "output_type": "stream",
     "text": [
      "Done!\n"
     ]
    }
   ],
   "source": [
    "# The iteration is now trained. Publish it to the project endpoint\n",
    "trainer.publish_iteration(project.id, iteration.id, publish_iteration_name, prediction_resource_id)\n",
    "print (\"Done!\")"
   ]
  },
  {
   "cell_type": "code",
   "execution_count": 10,
   "metadata": {},
   "outputs": [],
   "source": [
    "from azure.cognitiveservices.vision.customvision.prediction import CustomVisionPredictionClient\n",
    "from msrest.authentication import ApiKeyCredentials\n",
    "\n",
    "prediction_key = \"<prediction-key>\"\n",
    "prediction_endpoint =\"https://<resource-name-prediction>.cognitiveservices.azure.com/\"\n",
    "# Now there is a trained endpoint that can be used to make a prediction\n",
    "predictor = CustomVisionPredictionClient(prediction_key, endpoint=prediction_endpoint)"
   ]
  },
  {
   "cell_type": "code",
   "execution_count": 13,
   "metadata": {},
   "outputs": [
    {
     "data": {
      "text/plain": [
       "'C:\\\\Code\\\\Demos\\\\Reactor AML Talk\\\\ImageScraperAndCustomVisionMagic\\\\bird_photos'"
      ]
     },
     "execution_count": 13,
     "metadata": {},
     "output_type": "execute_result"
    }
   ],
   "source": [
    "#get currect directory\n",
    "os.getcwd()"
   ]
  },
  {
   "cell_type": "code",
   "execution_count": 12,
   "metadata": {},
   "outputs": [],
   "source": [
    "#move back\n",
    "os.chdir(\"../\")"
   ]
  },
  {
   "cell_type": "code",
   "execution_count": 14,
   "metadata": {},
   "outputs": [],
   "source": [
    "#C:\\Code\\Demos\\Reactor AML Talk\\bird_photos\\val\\American Crow\\bf579add7cbc400bbc6b374dff68d23c.jpg\n",
    "val_image_url = f\"./val/American Crow/bf579add7cbc400bbc6b374dff68d23c.jpg\""
   ]
  },
  {
   "cell_type": "code",
   "execution_count": 15,
   "metadata": {},
   "outputs": [
    {
     "name": "stdout",
     "output_type": "stream",
     "text": [
      "\tAmerican Crow: 100.00%\n",
      "\tCommon Grackle: 0.00%\n",
      "\tBlue Jay: 0.00%\n",
      "\tAmerican Robin (Adult): 0.00%\n",
      "\tHouse Sparrow (Female): 0.00%\n",
      "\tNorthern Cardinal (Female): 0.00%\n",
      "\tAmerican Robin (Juvenile): 0.00%\n",
      "\tRed-tailed Hawk (Dark morph): 0.00%\n",
      "\tNorthern Cardinal (Adult Male): 0.00%\n",
      "\tMourning Dove: 0.00%\n",
      "\tTufted Titmouse: 0.00%\n",
      "\tHouse Sparrow (Male): 0.00%\n",
      "\tHouse Wren: 0.00%\n",
      "\tRed-tailed Hawk (Light morph immature): 0.00%\n",
      "\tAmerican Goldfinch (Female): 0.00%\n",
      "\tAmerican Goldfinch (Male): 0.00%\n"
     ]
    }
   ],
   "source": [
    "with open(val_image_url, \"rb\") as image_contents:\n",
    "    results = predictor.classify_image(project.id, publish_iteration_name, image_contents.read())\n",
    "        # Display the results.\n",
    "    for prediction in results.predictions:\n",
    "        print(\"\\t\" + prediction.tag_name +\n",
    "              \": {0:.2f}%\".format(prediction.probability * 100))"
   ]
  },
  {
   "cell_type": "code",
   "execution_count": null,
   "metadata": {},
   "outputs": [],
   "source": []
  }
 ],
 "metadata": {
  "kernelspec": {
   "display_name": "Python 3",
   "language": "python",
   "name": "python3"
  },
  "language_info": {
   "codemirror_mode": {
    "name": "ipython",
    "version": 3
   },
   "file_extension": ".py",
   "mimetype": "text/x-python",
   "name": "python",
   "nbconvert_exporter": "python",
   "pygments_lexer": "ipython3",
   "version": "3.7.1"
  }
 },
 "nbformat": 4,
 "nbformat_minor": 2
}
